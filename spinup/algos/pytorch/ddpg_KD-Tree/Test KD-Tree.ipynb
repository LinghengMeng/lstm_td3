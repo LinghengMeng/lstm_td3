{
 "cells": [
  {
   "cell_type": "code",
   "execution_count": 10,
   "metadata": {},
   "outputs": [],
   "source": [
    "import numpy as np\n",
    "from sklearn.neighbors import KDTree\n",
    "import time"
   ]
  },
  {
   "cell_type": "code",
   "execution_count": 13,
   "metadata": {},
   "outputs": [],
   "source": [
    "rng = np.random.RandomState(0)\n",
    "X = rng.random_sample((1000000, 100))  # 10 points in 3 dimensions"
   ]
  },
  {
   "cell_type": "code",
   "execution_count": 14,
   "metadata": {},
   "outputs": [
    {
     "name": "stdout",
     "output_type": "stream",
     "text": [
      "Time: 161.23804020881653s\n"
     ]
    }
   ],
   "source": [
    "start_time = time.time()\n",
    "tree = KDTree(X, leaf_size=2)  \n",
    "end_time = time.time()\n",
    "print('Time: {}s'.format(end_time-start_time))"
   ]
  },
  {
   "cell_type": "code",
   "execution_count": 7,
   "metadata": {},
   "outputs": [
    {
     "name": "stdout",
     "output_type": "stream",
     "text": [
      "[[   0 4570 8894]\n",
      " [   1 1203 3928]\n",
      " [   2 2432 2596]\n",
      " [   3 5699 3816]\n",
      " [   4 8818 8563]\n",
      " [   5 6667 5077]\n",
      " [   6 7909 8497]\n",
      " [   7 4690 2661]\n",
      " [   8 4313 6239]\n",
      " [   9 1555 3940]]\n",
      "[[0.         3.21795666 3.22633538]\n",
      " [0.         3.14403209 3.18422455]\n",
      " [0.         3.31643304 3.31888397]\n",
      " [0.         3.12992588 3.21080126]\n",
      " [0.         3.17995234 3.27369502]\n",
      " [0.         3.32398653 3.33699009]\n",
      " [0.         3.12683558 3.13653705]\n",
      " [0.         3.34167285 3.34930331]\n",
      " [0.         3.15659087 3.17351352]\n",
      " [0.         3.31107933 3.33792927]]\n"
     ]
    }
   ],
   "source": [
    "dist, ind = tree.query(X[:10], k=3)                \n",
    "print(ind)  # indices of 3 closest neighbors\n",
    "\n",
    "print(dist)  # distances to 3 closest neighbors"
   ]
  },
  {
   "cell_type": "code",
   "execution_count": null,
   "metadata": {},
   "outputs": [],
   "source": []
  }
 ],
 "metadata": {
  "kernelspec": {
   "display_name": "Python 3",
   "language": "python",
   "name": "python3"
  },
  "language_info": {
   "codemirror_mode": {
    "name": "ipython",
    "version": 3
   },
   "file_extension": ".py",
   "mimetype": "text/x-python",
   "name": "python",
   "nbconvert_exporter": "python",
   "pygments_lexer": "ipython3",
   "version": "3.7.5"
  }
 },
 "nbformat": 4,
 "nbformat_minor": 4
}
