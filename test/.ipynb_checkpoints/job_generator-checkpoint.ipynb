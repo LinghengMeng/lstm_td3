{
 "cells": [
  {
   "cell_type": "code",
   "execution_count": 1,
   "metadata": {},
   "outputs": [],
   "source": [
    "import numpy as np\n",
    "import os\n",
    "CPU_NUM = 4\n",
    "JOB_TIME = '0-10:00'\n",
    "JOB_MEMORY = '12000M'\n",
    "job_sub_dir = './job_scripts'\n",
    "job_out_dir = './job_scripts_output'"
   ]
  },
  {
   "cell_type": "code",
   "execution_count": 6,
   "metadata": {},
   "outputs": [],
   "source": [
    "if not os.path.exists(job_sub_dir):\n",
    "    os.makedirs(job_sub_dir)\n",
    "if not os.path.exists(job_out_dir):\n",
    "    os.makedirs(job_out_dir)"
   ]
  },
  {
   "cell_type": "code",
   "execution_count": 7,
   "metadata": {},
   "outputs": [
    {
     "name": "stdout",
     "output_type": "stream",
     "text": [
      "job_HalfCheetahPyBulletEnv-v0_0_POMDP.sh\n",
      "job_HalfCheetahPyBulletEnv-v0_1_POMDP.sh\n",
      "job_HalfCheetahPyBulletEnv-v0_0_MDP.sh\n",
      "job_HalfCheetahPyBulletEnv-v0_1_MDP.sh\n",
      "job_AntPyBulletEnv-v0_0_POMDP.sh\n",
      "job_AntPyBulletEnv-v0_1_POMDP.sh\n",
      "job_AntPyBulletEnv-v0_0_MDP.sh\n",
      "job_AntPyBulletEnv-v0_1_MDP.sh\n",
      "job_Walker2DPyBulletEnv-v0_0_POMDP.sh\n",
      "job_Walker2DPyBulletEnv-v0_1_POMDP.sh\n",
      "job_Walker2DPyBulletEnv-v0_0_MDP.sh\n",
      "job_Walker2DPyBulletEnv-v0_1_MDP.sh\n",
      "job_HopperPyBulletEnv-v0_0_POMDP.sh\n",
      "job_HopperPyBulletEnv-v0_1_POMDP.sh\n",
      "job_HopperPyBulletEnv-v0_0_MDP.sh\n",
      "job_HopperPyBulletEnv-v0_1_MDP.sh\n",
      "job_InvertedPendulumPyBulletEnv-v0_0_POMDP.sh\n",
      "job_InvertedPendulumPyBulletEnv-v0_1_POMDP.sh\n",
      "job_InvertedPendulumPyBulletEnv-v0_0_MDP.sh\n",
      "job_InvertedPendulumPyBulletEnv-v0_1_MDP.sh\n",
      "job_InvertedDoublePendulumPyBulletEnv-v0_0_POMDP.sh\n",
      "job_InvertedDoublePendulumPyBulletEnv-v0_1_POMDP.sh\n",
      "job_InvertedDoublePendulumPyBulletEnv-v0_0_MDP.sh\n",
      "job_InvertedDoublePendulumPyBulletEnv-v0_1_MDP.sh\n",
      "job_ReacherPyBulletEnv-v0_0_POMDP.sh\n",
      "job_ReacherPyBulletEnv-v0_1_POMDP.sh\n",
      "job_ReacherPyBulletEnv-v0_0_MDP.sh\n",
      "job_ReacherPyBulletEnv-v0_1_MDP.sh\n"
     ]
    }
   ],
   "source": [
    "# tasks = ['HalfCheetahMuJoCoEnv-v0', 'AntMuJoCoEnv-v0', 'Walker2DMuJoCoEnv-v0', 'HopperMuJoCoEnv-v0',\n",
    "#          'InvertedPendulumMuJoCoEnv-v0', 'InvertedDoublePendulumMuJoCoEnv-v0', \n",
    "#          'HalfCheetahPyBulletEnv-v0', 'AntPyBulletEnv-v0', 'Walker2DPyBulletEnv-v0', 'HopperPyBulletEnv-v0', \n",
    "#          'InvertedPendulumPyBulletEnv-v0', 'InvertedDoublePendulumPyBulletEnv-v0', 'ReacherPyBulletEnv-v0']\n",
    "\n",
    "tasks = ['HalfCheetahPyBulletEnv-v0', 'AntPyBulletEnv-v0', 'Walker2DPyBulletEnv-v0', 'HopperPyBulletEnv-v0', \n",
    "         'InvertedPendulumPyBulletEnv-v0', 'InvertedDoublePendulumPyBulletEnv-v0', 'ReacherPyBulletEnv-v0']\n",
    "\n",
    "partial_observable = [True, False]\n",
    "# seeds = ['0', '1', '2', '3', '4']\n",
    "seeds = ['0', '1']\n",
    "\n",
    "for task in tasks:\n",
    "    for p_obs in partial_observable:\n",
    "        for s in seeds:\n",
    "            if p_obs:\n",
    "                p_obs_str = 'POMDP'\n",
    "            else:\n",
    "                p_obs_str = 'MDP'\n",
    "            job_filename = 'job_{0}_{1}_{2}.sh'.format(task, s, p_obs_str)\n",
    "            print(job_filename)\n",
    "            with open(os.path.join(job_sub_dir, job_filename), 'w') as job_file:\n",
    "                job_file.write('#!/bin/bash\\n')\n",
    "                job_file.write('#SBATCH --account=def-rgorbet\\n')\n",
    "                job_file.write('#SBATCH --cpus-per-task={}    #Maximum of CPU cores per GPU request: 6 on Cedar, 16 on Graham.\\n'.format(CPU_NUM))\n",
    "                job_file.write('#SBATCH --mem={}               # memory per node\\n'.format(JOB_MEMORY))\n",
    "                job_file.write('#SBATCH --time={}            # time (DD-HH:MM)\\n'.format(JOB_TIME))\n",
    "                job_file.write('#SBATCH --output=./job_scripts_output/job_{0}_{1}_{2}_%N-%j.out        # %N for node name, %j for jobID\\n'.format(task, s, p_obs_str))\n",
    "                job_file.write('## Main processing command\\n')\n",
    "                job_file.write('module load cuda cudnn \\n')\n",
    "                job_file.write('source ~/torch_env/bin/activate\\n')\n",
    "                job_file.write('python ../../spinup/algos/pytorch/td3/td3.py  --env {0} --partially_observable {1} --seed {2} --epochs 200 --data_dir spinup_POMDP --exp_name td3_{0}_{2}_{3}'.format(task, p_obs, s, p_obs_str))"
   ]
  },
  {
   "cell_type": "markdown",
   "metadata": {},
   "source": [
    "## Submit jobs"
   ]
  },
  {
   "cell_type": "code",
   "execution_count": 10,
   "metadata": {},
   "outputs": [
    {
     "name": "stdout",
     "output_type": "stream",
     "text": [
      "1 ---- job_AntPyBulletEnv-v0_0_MDP.sh: 0\n",
      "2 ---- job_AntPyBulletEnv-v0_0_POMDP.sh: 0\n",
      "3 ---- job_AntPyBulletEnv-v0_1_MDP.sh: 0\n",
      "4 ---- job_AntPyBulletEnv-v0_1_POMDP.sh: 0\n",
      "5 ---- job_HalfCheetahPyBulletEnv-v0_0_MDP.sh: 0\n",
      "6 ---- job_HalfCheetahPyBulletEnv-v0_0_POMDP.sh: 0\n",
      "7 ---- job_HalfCheetahPyBulletEnv-v0_1_MDP.sh: 0\n",
      "8 ---- job_HalfCheetahPyBulletEnv-v0_1_POMDP.sh: 0\n",
      "9 ---- job_HopperPyBulletEnv-v0_0_MDP.sh: 0\n",
      "10 ---- job_HopperPyBulletEnv-v0_0_POMDP.sh: 0\n",
      "11 ---- job_HopperPyBulletEnv-v0_1_MDP.sh: 0\n",
      "12 ---- job_HopperPyBulletEnv-v0_1_POMDP.sh: 0\n",
      "13 ---- job_InvertedDoublePendulumPyBulletEnv-v0_0_MDP.sh: 0\n",
      "14 ---- job_InvertedDoublePendulumPyBulletEnv-v0_0_POMDP.sh: 0\n",
      "15 ---- job_InvertedDoublePendulumPyBulletEnv-v0_1_MDP.sh: 0\n",
      "16 ---- job_InvertedDoublePendulumPyBulletEnv-v0_1_POMDP.sh: 0\n",
      "17 ---- job_InvertedPendulumPyBulletEnv-v0_0_MDP.sh: 0\n",
      "18 ---- job_InvertedPendulumPyBulletEnv-v0_0_POMDP.sh: 0\n",
      "19 ---- job_InvertedPendulumPyBulletEnv-v0_1_MDP.sh: 0\n",
      "20 ---- job_InvertedPendulumPyBulletEnv-v0_1_POMDP.sh: 0\n",
      "21 ---- job_ReacherPyBulletEnv-v0_0_MDP.sh: 0\n",
      "22 ---- job_ReacherPyBulletEnv-v0_0_POMDP.sh: 0\n",
      "23 ---- job_ReacherPyBulletEnv-v0_1_MDP.sh: 0\n",
      "24 ---- job_ReacherPyBulletEnv-v0_1_POMDP.sh: 0\n",
      "25 ---- job_Walker2DPyBulletEnv-v0_0_MDP.sh: 0\n",
      "26 ---- job_Walker2DPyBulletEnv-v0_0_POMDP.sh: 0\n",
      "27 ---- job_Walker2DPyBulletEnv-v0_1_MDP.sh: 0\n",
      "28 ---- job_Walker2DPyBulletEnv-v0_1_POMDP.sh: 0\n"
     ]
    }
   ],
   "source": [
    "import os\n",
    "job_sub_dir = './job_scripts'\n",
    "jobs = os.listdir('./job_scripts')\n",
    "jobs.sort()\n",
    "i=1\n",
    "for job in jobs:\n",
    "    if job.endswith(\".sh\"):\n",
    "        code = os.system('sbatch {}'.format(os.path.join(job_sub_dir, job)))\n",
    "        print('{} ---- {}: {}'.format(i, job, code))\n",
    "        i += 1"
   ]
  },
  {
   "cell_type": "code",
   "execution_count": null,
   "metadata": {},
   "outputs": [],
   "source": [
    "\n"
   ]
  }
 ],
 "metadata": {
  "kernelspec": {
   "display_name": "Python 3",
   "language": "python",
   "name": "python3"
  },
  "language_info": {
   "codemirror_mode": {
    "name": "ipython",
    "version": 3
   },
   "file_extension": ".py",
   "mimetype": "text/x-python",
   "name": "python",
   "nbconvert_exporter": "python",
   "pygments_lexer": "ipython3",
   "version": "3.7.5"
  }
 },
 "nbformat": 4,
 "nbformat_minor": 4
}
